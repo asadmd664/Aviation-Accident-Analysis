{
 "cells": [
  {
   "cell_type": "markdown",
   "metadata": {},
   "source": [
    "Aviation Accident Analysis\n",
    "This project is meant to explore, analyse and visualize aviation accidents and related factors such as reasons, survival rates, fatalities, locations etc."
   ]
  },
  {
   "cell_type": "code",
   "execution_count": null,
   "metadata": {},
   "outputs": [],
   "source": [
    "import pandas as pd \n",
    "import numpy as np \n",
    "import seaborn as sns\n",
    "import matplotlib.pyplot as plt\n",
    "from datetime import date, datetime, timedelta"
   ]
  },
  {
   "cell_type": "code",
   "execution_count": 9,
   "metadata": {},
   "outputs": [
    {
     "name": "stdout",
     "output_type": "stream",
     "text": [
      "            Date   Time                                           Location  \\\n",
      "0     09/17/1908  17:18                                Fort Myer, Virginia   \n",
      "1     07/12/1912  06:30                            AtlantiCity, New Jersey   \n",
      "2     08/06/1913    NaN                 Victoria, British Columbia, Canada   \n",
      "3     09/09/1913  18:30                                 Over the North Sea   \n",
      "4     10/17/1913  10:30                         Near Johannisthal, Germany   \n",
      "...          ...    ...                                                ...   \n",
      "5263  05/20/2009  06:30                             Near Madiun, Indonesia   \n",
      "5264  05/26/2009    NaN                  Near Isiro, DemocratiRepubliCongo   \n",
      "5265  06/01/2009  00:15  AtlantiOcean, 570 miles northeast of Natal, Br...   \n",
      "5266  06/07/2009  08:30       Near Port Hope Simpson, Newfoundland, Canada   \n",
      "5267  06/08/2009    NaN                  State of Arunachal Pradesh, India   \n",
      "\n",
      "                             Operator Flight #  \\\n",
      "0                Military - U.S. Army      NaN   \n",
      "1                Military - U.S. Navy      NaN   \n",
      "2                             Private        -   \n",
      "3              Military - German Navy      NaN   \n",
      "4              Military - German Navy      NaN   \n",
      "...                               ...      ...   \n",
      "5263  Military - Indonesian Air Force      NaN   \n",
      "5264                      Service Air      NaN   \n",
      "5265                       Air France      447   \n",
      "5266                       Strait Air      NaN   \n",
      "5267      Military - Indian Air Force      NaN   \n",
      "\n",
      "                                          Route  \\\n",
      "0                                 Demonstration   \n",
      "1                                   Test flight   \n",
      "2                                           NaN   \n",
      "3                                           NaN   \n",
      "4                                           NaN   \n",
      "...                                         ...   \n",
      "5263                           Jakarta - Maduin   \n",
      "5264                               Goma - Isiro   \n",
      "5265                     Rio de Janeiro - Paris   \n",
      "5266  Lourdes de BlanSablon - Port Hope Simpson   \n",
      "5267                         Mechuka for Jorhat   \n",
      "\n",
      "                                  Type Registration cn/In  Aboard  Fatalities  \\\n",
      "0                     Wright Flyer III          NaN     1     2.0         1.0   \n",
      "1                            Dirigible          NaN   NaN     5.0         5.0   \n",
      "2                     Curtiss seaplane          NaN   NaN     1.0         1.0   \n",
      "3               Zeppelin L-1 (airship)          NaN   NaN    20.0        14.0   \n",
      "4               Zeppelin L-2 (airship)          NaN   NaN    30.0        30.0   \n",
      "...                                ...          ...   ...     ...         ...   \n",
      "5263           Lockheed C-130 Hercules       A-1325  1982   112.0        98.0   \n",
      "5264                     Antonov An-26       9Q-CSA  5005     4.0         4.0   \n",
      "5265                   Airbus A330-203       F-GZCP   660   228.0       228.0   \n",
      "5266  Britten-Norman BN-2A-27 Islander      C-FJJR    424     1.0         1.0   \n",
      "5267                     Antonov An-32          NaN   NaN    13.0        13.0   \n",
      "\n",
      "      Ground                                            Summary  \n",
      "0        0.0  During a demonstration flight, a U.S. Army fly...  \n",
      "1        0.0  First U.S. dirigible Akron exploded just offsh...  \n",
      "2        0.0  The first fatal airplane accident in Canada oc...  \n",
      "3        0.0  The airship flew into a thunderstorm and encou...  \n",
      "4        0.0  Hydrogen gas which was being vented was sucked...  \n",
      "...      ...                                                ...  \n",
      "5263     2.0  While on approach, the military transport cras...  \n",
      "5264     NaN  The cargo plane crashed while on approach to I...  \n",
      "5265     0.0  The Airbus went missing over the AtlantiOcean ...  \n",
      "5266     0.0  The air ambulance crashed into hills while att...  \n",
      "5267     0.0  The military transport went missing while en r...  \n",
      "\n",
      "[5268 rows x 13 columns]\n"
     ]
    }
   ],
   "source": [
    "import pandas as pd \n",
    "avi_data= pd.read_csv(r'C:\\Users\\mhaasa\\Downloads\\Dataset1.csv')\n",
    "print(avi_data)"
   ]
  },
  {
   "cell_type": "code",
   "execution_count": 10,
   "metadata": {},
   "outputs": [
    {
     "data": {
      "text/html": [
       "<div>\n",
       "<style scoped>\n",
       "    .dataframe tbody tr th:only-of-type {\n",
       "        vertical-align: middle;\n",
       "    }\n",
       "\n",
       "    .dataframe tbody tr th {\n",
       "        vertical-align: top;\n",
       "    }\n",
       "\n",
       "    .dataframe thead th {\n",
       "        text-align: right;\n",
       "    }\n",
       "</style>\n",
       "<table border=\"1\" class=\"dataframe\">\n",
       "  <thead>\n",
       "    <tr style=\"text-align: right;\">\n",
       "      <th></th>\n",
       "      <th>Date</th>\n",
       "      <th>Time</th>\n",
       "      <th>Location</th>\n",
       "      <th>Operator</th>\n",
       "      <th>Flight #</th>\n",
       "      <th>Route</th>\n",
       "      <th>Type</th>\n",
       "      <th>Registration</th>\n",
       "      <th>cn/In</th>\n",
       "      <th>Aboard</th>\n",
       "      <th>Fatalities</th>\n",
       "      <th>Ground</th>\n",
       "      <th>Summary</th>\n",
       "    </tr>\n",
       "  </thead>\n",
       "  <tbody>\n",
       "    <tr>\n",
       "      <th>0</th>\n",
       "      <td>09/17/1908</td>\n",
       "      <td>17:18</td>\n",
       "      <td>Fort Myer, Virginia</td>\n",
       "      <td>Military - U.S. Army</td>\n",
       "      <td>NaN</td>\n",
       "      <td>Demonstration</td>\n",
       "      <td>Wright Flyer III</td>\n",
       "      <td>NaN</td>\n",
       "      <td>1</td>\n",
       "      <td>2.0</td>\n",
       "      <td>1.0</td>\n",
       "      <td>0.0</td>\n",
       "      <td>During a demonstration flight, a U.S. Army fly...</td>\n",
       "    </tr>\n",
       "    <tr>\n",
       "      <th>1</th>\n",
       "      <td>07/12/1912</td>\n",
       "      <td>06:30</td>\n",
       "      <td>AtlantiCity, New Jersey</td>\n",
       "      <td>Military - U.S. Navy</td>\n",
       "      <td>NaN</td>\n",
       "      <td>Test flight</td>\n",
       "      <td>Dirigible</td>\n",
       "      <td>NaN</td>\n",
       "      <td>NaN</td>\n",
       "      <td>5.0</td>\n",
       "      <td>5.0</td>\n",
       "      <td>0.0</td>\n",
       "      <td>First U.S. dirigible Akron exploded just offsh...</td>\n",
       "    </tr>\n",
       "    <tr>\n",
       "      <th>2</th>\n",
       "      <td>08/06/1913</td>\n",
       "      <td>NaN</td>\n",
       "      <td>Victoria, British Columbia, Canada</td>\n",
       "      <td>Private</td>\n",
       "      <td>-</td>\n",
       "      <td>NaN</td>\n",
       "      <td>Curtiss seaplane</td>\n",
       "      <td>NaN</td>\n",
       "      <td>NaN</td>\n",
       "      <td>1.0</td>\n",
       "      <td>1.0</td>\n",
       "      <td>0.0</td>\n",
       "      <td>The first fatal airplane accident in Canada oc...</td>\n",
       "    </tr>\n",
       "    <tr>\n",
       "      <th>3</th>\n",
       "      <td>09/09/1913</td>\n",
       "      <td>18:30</td>\n",
       "      <td>Over the North Sea</td>\n",
       "      <td>Military - German Navy</td>\n",
       "      <td>NaN</td>\n",
       "      <td>NaN</td>\n",
       "      <td>Zeppelin L-1 (airship)</td>\n",
       "      <td>NaN</td>\n",
       "      <td>NaN</td>\n",
       "      <td>20.0</td>\n",
       "      <td>14.0</td>\n",
       "      <td>0.0</td>\n",
       "      <td>The airship flew into a thunderstorm and encou...</td>\n",
       "    </tr>\n",
       "    <tr>\n",
       "      <th>4</th>\n",
       "      <td>10/17/1913</td>\n",
       "      <td>10:30</td>\n",
       "      <td>Near Johannisthal, Germany</td>\n",
       "      <td>Military - German Navy</td>\n",
       "      <td>NaN</td>\n",
       "      <td>NaN</td>\n",
       "      <td>Zeppelin L-2 (airship)</td>\n",
       "      <td>NaN</td>\n",
       "      <td>NaN</td>\n",
       "      <td>30.0</td>\n",
       "      <td>30.0</td>\n",
       "      <td>0.0</td>\n",
       "      <td>Hydrogen gas which was being vented was sucked...</td>\n",
       "    </tr>\n",
       "  </tbody>\n",
       "</table>\n",
       "</div>"
      ],
      "text/plain": [
       "         Date   Time                            Location  \\\n",
       "0  09/17/1908  17:18                 Fort Myer, Virginia   \n",
       "1  07/12/1912  06:30             AtlantiCity, New Jersey   \n",
       "2  08/06/1913    NaN  Victoria, British Columbia, Canada   \n",
       "3  09/09/1913  18:30                  Over the North Sea   \n",
       "4  10/17/1913  10:30          Near Johannisthal, Germany   \n",
       "\n",
       "                 Operator Flight #          Route                    Type  \\\n",
       "0    Military - U.S. Army      NaN  Demonstration        Wright Flyer III   \n",
       "1    Military - U.S. Navy      NaN    Test flight               Dirigible   \n",
       "2                 Private        -            NaN        Curtiss seaplane   \n",
       "3  Military - German Navy      NaN            NaN  Zeppelin L-1 (airship)   \n",
       "4  Military - German Navy      NaN            NaN  Zeppelin L-2 (airship)   \n",
       "\n",
       "  Registration cn/In  Aboard  Fatalities  Ground  \\\n",
       "0          NaN     1     2.0         1.0     0.0   \n",
       "1          NaN   NaN     5.0         5.0     0.0   \n",
       "2          NaN   NaN     1.0         1.0     0.0   \n",
       "3          NaN   NaN    20.0        14.0     0.0   \n",
       "4          NaN   NaN    30.0        30.0     0.0   \n",
       "\n",
       "                                             Summary  \n",
       "0  During a demonstration flight, a U.S. Army fly...  \n",
       "1  First U.S. dirigible Akron exploded just offsh...  \n",
       "2  The first fatal airplane accident in Canada oc...  \n",
       "3  The airship flew into a thunderstorm and encou...  \n",
       "4  Hydrogen gas which was being vented was sucked...  "
      ]
     },
     "execution_count": 10,
     "metadata": {},
     "output_type": "execute_result"
    }
   ],
   "source": [
    "avi_data.head()"
   ]
  },
  {
   "cell_type": "code",
   "execution_count": 11,
   "metadata": {},
   "outputs": [
    {
     "data": {
      "text/plain": [
       "(5268, 13)"
      ]
     },
     "execution_count": 11,
     "metadata": {},
     "output_type": "execute_result"
    }
   ],
   "source": [
    "avi_data.shape"
   ]
  },
  {
   "cell_type": "code",
   "execution_count": 12,
   "metadata": {},
   "outputs": [
    {
     "name": "stdout",
     "output_type": "stream",
     "text": [
      "<class 'pandas.core.frame.DataFrame'>\n",
      "RangeIndex: 5268 entries, 0 to 5267\n",
      "Data columns (total 13 columns):\n",
      " #   Column        Non-Null Count  Dtype  \n",
      "---  ------        --------------  -----  \n",
      " 0   Date          5268 non-null   object \n",
      " 1   Time          3049 non-null   object \n",
      " 2   Location      5248 non-null   object \n",
      " 3   Operator      5250 non-null   object \n",
      " 4   Flight #      1069 non-null   object \n",
      " 5   Route         3562 non-null   object \n",
      " 6   Type          5241 non-null   object \n",
      " 7   Registration  4933 non-null   object \n",
      " 8   cn/In         4040 non-null   object \n",
      " 9   Aboard        5246 non-null   float64\n",
      " 10  Fatalities    5256 non-null   float64\n",
      " 11  Ground        5246 non-null   float64\n",
      " 12  Summary       4878 non-null   object \n",
      "dtypes: float64(3), object(10)\n",
      "memory usage: 535.2+ KB\n"
     ]
    }
   ],
   "source": [
    "avi_data.info()"
   ]
  },
  {
   "cell_type": "code",
   "execution_count": 13,
   "metadata": {},
   "outputs": [
    {
     "data": {
      "text/html": [
       "<div>\n",
       "<style scoped>\n",
       "    .dataframe tbody tr th:only-of-type {\n",
       "        vertical-align: middle;\n",
       "    }\n",
       "\n",
       "    .dataframe tbody tr th {\n",
       "        vertical-align: top;\n",
       "    }\n",
       "\n",
       "    .dataframe thead th {\n",
       "        text-align: right;\n",
       "    }\n",
       "</style>\n",
       "<table border=\"1\" class=\"dataframe\">\n",
       "  <thead>\n",
       "    <tr style=\"text-align: right;\">\n",
       "      <th></th>\n",
       "      <th>Aboard</th>\n",
       "      <th>Fatalities</th>\n",
       "      <th>Ground</th>\n",
       "    </tr>\n",
       "  </thead>\n",
       "  <tbody>\n",
       "    <tr>\n",
       "      <th>count</th>\n",
       "      <td>5246.000000</td>\n",
       "      <td>5256.000000</td>\n",
       "      <td>5246.000000</td>\n",
       "    </tr>\n",
       "    <tr>\n",
       "      <th>mean</th>\n",
       "      <td>27.554518</td>\n",
       "      <td>20.068303</td>\n",
       "      <td>1.608845</td>\n",
       "    </tr>\n",
       "    <tr>\n",
       "      <th>std</th>\n",
       "      <td>43.076711</td>\n",
       "      <td>33.199952</td>\n",
       "      <td>53.987827</td>\n",
       "    </tr>\n",
       "    <tr>\n",
       "      <th>min</th>\n",
       "      <td>0.000000</td>\n",
       "      <td>0.000000</td>\n",
       "      <td>0.000000</td>\n",
       "    </tr>\n",
       "    <tr>\n",
       "      <th>25%</th>\n",
       "      <td>5.000000</td>\n",
       "      <td>3.000000</td>\n",
       "      <td>0.000000</td>\n",
       "    </tr>\n",
       "    <tr>\n",
       "      <th>50%</th>\n",
       "      <td>13.000000</td>\n",
       "      <td>9.000000</td>\n",
       "      <td>0.000000</td>\n",
       "    </tr>\n",
       "    <tr>\n",
       "      <th>75%</th>\n",
       "      <td>30.000000</td>\n",
       "      <td>23.000000</td>\n",
       "      <td>0.000000</td>\n",
       "    </tr>\n",
       "    <tr>\n",
       "      <th>max</th>\n",
       "      <td>644.000000</td>\n",
       "      <td>583.000000</td>\n",
       "      <td>2750.000000</td>\n",
       "    </tr>\n",
       "  </tbody>\n",
       "</table>\n",
       "</div>"
      ],
      "text/plain": [
       "            Aboard   Fatalities       Ground\n",
       "count  5246.000000  5256.000000  5246.000000\n",
       "mean     27.554518    20.068303     1.608845\n",
       "std      43.076711    33.199952    53.987827\n",
       "min       0.000000     0.000000     0.000000\n",
       "25%       5.000000     3.000000     0.000000\n",
       "50%      13.000000     9.000000     0.000000\n",
       "75%      30.000000    23.000000     0.000000\n",
       "max     644.000000   583.000000  2750.000000"
      ]
     },
     "execution_count": 13,
     "metadata": {},
     "output_type": "execute_result"
    }
   ],
   "source": [
    "avi_data.describe()"
   ]
  },
  {
   "cell_type": "code",
   "execution_count": 14,
   "metadata": {},
   "outputs": [
    {
     "data": {
      "text/plain": [
       "Date               0\n",
       "Time            2219\n",
       "Location          20\n",
       "Operator          18\n",
       "Flight #        4199\n",
       "Route           1706\n",
       "Type              27\n",
       "Registration     335\n",
       "cn/In           1228\n",
       "Aboard            22\n",
       "Fatalities        12\n",
       "Ground            22\n",
       "Summary          390\n",
       "dtype: int64"
      ]
     },
     "execution_count": 14,
     "metadata": {},
     "output_type": "execute_result"
    }
   ],
   "source": [
    "#missing data check\n",
    "\n",
    "avi_data.isnull().sum()"
   ]
  },
  {
   "cell_type": "code",
   "execution_count": 17,
   "metadata": {},
   "outputs": [],
   "source": [
    "# Replacing time Nan values to time formate \n",
    "import numpy as np\n",
    "avi_data['Time']= avi_data['Time'].replace(np.nan, '00:00')"
   ]
  },
  {
   "cell_type": "code",
   "execution_count": 18,
   "metadata": {},
   "outputs": [
    {
     "data": {
      "text/plain": [
       "Date               0\n",
       "Time               0\n",
       "Location          20\n",
       "Operator          18\n",
       "Flight #        4199\n",
       "Route           1706\n",
       "Type              27\n",
       "Registration     335\n",
       "cn/In           1228\n",
       "Aboard            22\n",
       "Fatalities        12\n",
       "Ground            22\n",
       "Summary          390\n",
       "dtype: int64"
      ]
     },
     "execution_count": 18,
     "metadata": {},
     "output_type": "execute_result"
    }
   ],
   "source": [
    "avi_data.isnull().sum()"
   ]
  },
  {
   "cell_type": "code",
   "execution_count": 19,
   "metadata": {},
   "outputs": [
    {
     "data": {
      "text/plain": [
       "00:00    2223\n",
       "15:00      32\n",
       "12:00      31\n",
       "11:00      29\n",
       "19:30      26\n",
       "         ... \n",
       "16:46       1\n",
       "11:53       1\n",
       "12:53       1\n",
       "00:28       1\n",
       "17:07       1\n",
       "Name: Time, Length: 1005, dtype: int64"
      ]
     },
     "execution_count": 19,
     "metadata": {},
     "output_type": "execute_result"
    }
   ],
   "source": [
    "avi_data['Time'].value_counts()"
   ]
  },
  {
   "cell_type": "code",
   "execution_count": 20,
   "metadata": {},
   "outputs": [
    {
     "data": {
      "text/plain": [
       "0       17:18\n",
       "1       06:30\n",
       "2       00:00\n",
       "3       18:30\n",
       "4       10:30\n",
       "        ...  \n",
       "5263    06:30\n",
       "5264    00:00\n",
       "5265    00:15\n",
       "5266    08:30\n",
       "5267    00:00\n",
       "Name: Time, Length: 5268, dtype: object"
      ]
     },
     "execution_count": 20,
     "metadata": {},
     "output_type": "execute_result"
    }
   ],
   "source": [
    "avi_data['Time']"
   ]
  },
  {
   "cell_type": "code",
   "execution_count": 22,
   "metadata": {},
   "outputs": [],
   "source": [
    "#replacing the unwanted symbols/ charecter\n",
    "\n",
    "avi_data['Time'] = avi_data['Time'].str.replace('c: ','')\n",
    "avi_data['Time'] = avi_data['Time'].str.replace('c:','')\n",
    "avi_data['Time'] = avi_data['Time'].str.replace('c','')\n",
    "avi_data['Time'] = avi_data['Time'].str.replace('12\\'20','12:20')\n",
    "avi_data['Time'] = avi_data['Time'].str.replace('18.40','18:40')\n",
    "avi_data['Time'] = avi_data['Time'].str.replace('0943','09:43')\n",
    "avi_data['Time'] = avi_data['Time'].str.replace('22\\'08','22:08')\n",
    "avi_data['Time'] = avi_data['Time'].str.replace('114:20','00:00')"
   ]
  },
  {
   "cell_type": "code",
   "execution_count": null,
   "metadata": {},
   "outputs": [],
   "source": [
    "#convert time column into datatype datetime64 \n",
    "avi_data['Time'] = (avi_data['Date'] + ' ' +avi_data['Time']).astype(str)\n",
    "avi_data['Time']=pd.to_datetime(avi_data['Time'], dayfirst=True)"
   ]
  },
  {
   "cell_type": "code",
   "execution_count": 24,
   "metadata": {},
   "outputs": [
    {
     "data": {
      "text/plain": [
       "0       09/17/1908 09/17/1908 17:18\n",
       "1       07/12/1912 07/12/1912 06:30\n",
       "2       08/06/1913 08/06/1913 00:00\n",
       "3       09/09/1913 09/09/1913 18:30\n",
       "4       10/17/1913 10/17/1913 10:30\n",
       "                   ...             \n",
       "5263    05/20/2009 05/20/2009 06:30\n",
       "5264    05/26/2009 05/26/2009 00:00\n",
       "5265    06/01/2009 06/01/2009 00:15\n",
       "5266    06/07/2009 06/07/2009 08:30\n",
       "5267    06/08/2009 06/08/2009 00:00\n",
       "Name: Time, Length: 5268, dtype: object"
      ]
     },
     "execution_count": 24,
     "metadata": {},
     "output_type": "execute_result"
    }
   ],
   "source": [
    "avi_data['Time']"
   ]
  },
  {
   "cell_type": "code",
   "execution_count": 25,
   "metadata": {},
   "outputs": [
    {
     "data": {
      "text/plain": [
       "'01/01/1966 01/01/1966 00:00'"
      ]
     },
     "execution_count": 25,
     "metadata": {},
     "output_type": "execute_result"
    }
   ],
   "source": [
    "# data start date\n",
    "\n",
    "avi_data.Time.min()"
   ]
  },
  {
   "cell_type": "code",
   "execution_count": 26,
   "metadata": {},
   "outputs": [
    {
     "data": {
      "text/plain": [
       "'12/31/1997 12/31/1997 07:45'"
      ]
     },
     "execution_count": 26,
     "metadata": {},
     "output_type": "execute_result"
    }
   ],
   "source": [
    "# data end data\n",
    "\n",
    "avi_data.Time.max()"
   ]
  },
  {
   "cell_type": "code",
   "execution_count": 27,
   "metadata": {},
   "outputs": [
    {
     "name": "stdout",
     "output_type": "stream",
     "text": [
      "            Date   Time                                           Location  \\\n",
      "0     09/17/1908  17:18                                Fort Myer, Virginia   \n",
      "1     07/12/1912  06:30                            AtlantiCity, New Jersey   \n",
      "2     08/06/1913    NaN                 Victoria, British Columbia, Canada   \n",
      "3     09/09/1913  18:30                                 Over the North Sea   \n",
      "4     10/17/1913  10:30                         Near Johannisthal, Germany   \n",
      "...          ...    ...                                                ...   \n",
      "5263  05/20/2009  06:30                             Near Madiun, Indonesia   \n",
      "5264  05/26/2009    NaN                  Near Isiro, DemocratiRepubliCongo   \n",
      "5265  06/01/2009  00:15  AtlantiOcean, 570 miles northeast of Natal, Br...   \n",
      "5266  06/07/2009  08:30       Near Port Hope Simpson, Newfoundland, Canada   \n",
      "5267  06/08/2009    NaN                  State of Arunachal Pradesh, India   \n",
      "\n",
      "                             Operator Flight #  \\\n",
      "0                Military - U.S. Army      NaN   \n",
      "1                Military - U.S. Navy      NaN   \n",
      "2                             Private        -   \n",
      "3              Military - German Navy      NaN   \n",
      "4              Military - German Navy      NaN   \n",
      "...                               ...      ...   \n",
      "5263  Military - Indonesian Air Force      NaN   \n",
      "5264                      Service Air      NaN   \n",
      "5265                       Air France      447   \n",
      "5266                       Strait Air      NaN   \n",
      "5267      Military - Indian Air Force      NaN   \n",
      "\n",
      "                                          Route  \\\n",
      "0                                 Demonstration   \n",
      "1                                   Test flight   \n",
      "2                                           NaN   \n",
      "3                                           NaN   \n",
      "4                                           NaN   \n",
      "...                                         ...   \n",
      "5263                           Jakarta - Maduin   \n",
      "5264                               Goma - Isiro   \n",
      "5265                     Rio de Janeiro - Paris   \n",
      "5266  Lourdes de BlanSablon - Port Hope Simpson   \n",
      "5267                         Mechuka for Jorhat   \n",
      "\n",
      "                                  Type Registration cn/In  Aboard  Fatalities  \\\n",
      "0                     Wright Flyer III          NaN     1     2.0         1.0   \n",
      "1                            Dirigible          NaN   NaN     5.0         5.0   \n",
      "2                     Curtiss seaplane          NaN   NaN     1.0         1.0   \n",
      "3               Zeppelin L-1 (airship)          NaN   NaN    20.0        14.0   \n",
      "4               Zeppelin L-2 (airship)          NaN   NaN    30.0        30.0   \n",
      "...                                ...          ...   ...     ...         ...   \n",
      "5263           Lockheed C-130 Hercules       A-1325  1982   112.0        98.0   \n",
      "5264                     Antonov An-26       9Q-CSA  5005     4.0         4.0   \n",
      "5265                   Airbus A330-203       F-GZCP   660   228.0       228.0   \n",
      "5266  Britten-Norman BN-2A-27 Islander      C-FJJR    424     1.0         1.0   \n",
      "5267                     Antonov An-32          NaN   NaN    13.0        13.0   \n",
      "\n",
      "      Ground                                            Summary  \n",
      "0        0.0  During a demonstration flight, a U.S. Army fly...  \n",
      "1        0.0  First U.S. dirigible Akron exploded just offsh...  \n",
      "2        0.0  The first fatal airplane accident in Canada oc...  \n",
      "3        0.0  The airship flew into a thunderstorm and encou...  \n",
      "4        0.0  Hydrogen gas which was being vented was sucked...  \n",
      "...      ...                                                ...  \n",
      "5263     2.0  While on approach, the military transport cras...  \n",
      "5264     NaN  The cargo plane crashed while on approach to I...  \n",
      "5265     0.0  The Airbus went missing over the AtlantiOcean ...  \n",
      "5266     0.0  The air ambulance crashed into hills while att...  \n",
      "5267     0.0  The military transport went missing while en r...  \n",
      "\n",
      "[5268 rows x 13 columns]\n"
     ]
    }
   ],
   "source": [
    "import pandas as pd \n",
    "avi_data= pd.read_csv(r'C:\\Users\\mhaasa\\Downloads\\Dataset1.csv')\n",
    "print(avi_data)"
   ]
  },
  {
   "cell_type": "code",
   "execution_count": 29,
   "metadata": {},
   "outputs": [
    {
     "data": {
      "text/plain": [
       "Index(['Date', 'Time', 'Location', 'Operator', 'Flight #', 'Route', 'Type',\n",
       "       'Registration', 'cn/In', 'Aboard', 'Fatalities', 'Ground', 'Summary'],\n",
       "      dtype='object')"
      ]
     },
     "execution_count": 29,
     "metadata": {},
     "output_type": "execute_result"
    }
   ],
   "source": [
    "avi_data.columns"
   ]
  },
  {
   "cell_type": "code",
   "execution_count": 30,
   "metadata": {},
   "outputs": [],
   "source": [
    "#converting operator into upper case\n",
    "\n",
    "avi_data['Operator']= avi_data.Operator.str.upper()"
   ]
  },
  {
   "cell_type": "code",
   "execution_count": 31,
   "metadata": {
    "scrolled": true
   },
   "outputs": [
    {
     "data": {
      "text/html": [
       "<div>\n",
       "<style scoped>\n",
       "    .dataframe tbody tr th:only-of-type {\n",
       "        vertical-align: middle;\n",
       "    }\n",
       "\n",
       "    .dataframe tbody tr th {\n",
       "        vertical-align: top;\n",
       "    }\n",
       "\n",
       "    .dataframe thead th {\n",
       "        text-align: right;\n",
       "    }\n",
       "</style>\n",
       "<table border=\"1\" class=\"dataframe\">\n",
       "  <thead>\n",
       "    <tr style=\"text-align: right;\">\n",
       "      <th></th>\n",
       "      <th>Date</th>\n",
       "      <th>Time</th>\n",
       "      <th>Location</th>\n",
       "      <th>Operator</th>\n",
       "      <th>Flight #</th>\n",
       "      <th>Route</th>\n",
       "      <th>Type</th>\n",
       "      <th>Registration</th>\n",
       "      <th>cn/In</th>\n",
       "      <th>Aboard</th>\n",
       "      <th>Fatalities</th>\n",
       "      <th>Ground</th>\n",
       "      <th>Summary</th>\n",
       "    </tr>\n",
       "  </thead>\n",
       "  <tbody>\n",
       "    <tr>\n",
       "      <th>0</th>\n",
       "      <td>09/17/1908</td>\n",
       "      <td>17:18</td>\n",
       "      <td>Fort Myer, Virginia</td>\n",
       "      <td>MILITARY - U.S. ARMY</td>\n",
       "      <td>NaN</td>\n",
       "      <td>Demonstration</td>\n",
       "      <td>Wright Flyer III</td>\n",
       "      <td>NaN</td>\n",
       "      <td>1</td>\n",
       "      <td>2.0</td>\n",
       "      <td>1.0</td>\n",
       "      <td>0.0</td>\n",
       "      <td>During a demonstration flight, a U.S. Army fly...</td>\n",
       "    </tr>\n",
       "    <tr>\n",
       "      <th>1</th>\n",
       "      <td>07/12/1912</td>\n",
       "      <td>06:30</td>\n",
       "      <td>AtlantiCity, New Jersey</td>\n",
       "      <td>MILITARY - U.S. NAVY</td>\n",
       "      <td>NaN</td>\n",
       "      <td>Test flight</td>\n",
       "      <td>Dirigible</td>\n",
       "      <td>NaN</td>\n",
       "      <td>NaN</td>\n",
       "      <td>5.0</td>\n",
       "      <td>5.0</td>\n",
       "      <td>0.0</td>\n",
       "      <td>First U.S. dirigible Akron exploded just offsh...</td>\n",
       "    </tr>\n",
       "    <tr>\n",
       "      <th>2</th>\n",
       "      <td>08/06/1913</td>\n",
       "      <td>NaN</td>\n",
       "      <td>Victoria, British Columbia, Canada</td>\n",
       "      <td>PRIVATE</td>\n",
       "      <td>-</td>\n",
       "      <td>NaN</td>\n",
       "      <td>Curtiss seaplane</td>\n",
       "      <td>NaN</td>\n",
       "      <td>NaN</td>\n",
       "      <td>1.0</td>\n",
       "      <td>1.0</td>\n",
       "      <td>0.0</td>\n",
       "      <td>The first fatal airplane accident in Canada oc...</td>\n",
       "    </tr>\n",
       "    <tr>\n",
       "      <th>3</th>\n",
       "      <td>09/09/1913</td>\n",
       "      <td>18:30</td>\n",
       "      <td>Over the North Sea</td>\n",
       "      <td>MILITARY - GERMAN NAVY</td>\n",
       "      <td>NaN</td>\n",
       "      <td>NaN</td>\n",
       "      <td>Zeppelin L-1 (airship)</td>\n",
       "      <td>NaN</td>\n",
       "      <td>NaN</td>\n",
       "      <td>20.0</td>\n",
       "      <td>14.0</td>\n",
       "      <td>0.0</td>\n",
       "      <td>The airship flew into a thunderstorm and encou...</td>\n",
       "    </tr>\n",
       "    <tr>\n",
       "      <th>4</th>\n",
       "      <td>10/17/1913</td>\n",
       "      <td>10:30</td>\n",
       "      <td>Near Johannisthal, Germany</td>\n",
       "      <td>MILITARY - GERMAN NAVY</td>\n",
       "      <td>NaN</td>\n",
       "      <td>NaN</td>\n",
       "      <td>Zeppelin L-2 (airship)</td>\n",
       "      <td>NaN</td>\n",
       "      <td>NaN</td>\n",
       "      <td>30.0</td>\n",
       "      <td>30.0</td>\n",
       "      <td>0.0</td>\n",
       "      <td>Hydrogen gas which was being vented was sucked...</td>\n",
       "    </tr>\n",
       "  </tbody>\n",
       "</table>\n",
       "</div>"
      ],
      "text/plain": [
       "         Date   Time                            Location  \\\n",
       "0  09/17/1908  17:18                 Fort Myer, Virginia   \n",
       "1  07/12/1912  06:30             AtlantiCity, New Jersey   \n",
       "2  08/06/1913    NaN  Victoria, British Columbia, Canada   \n",
       "3  09/09/1913  18:30                  Over the North Sea   \n",
       "4  10/17/1913  10:30          Near Johannisthal, Germany   \n",
       "\n",
       "                 Operator Flight #          Route                    Type  \\\n",
       "0    MILITARY - U.S. ARMY      NaN  Demonstration        Wright Flyer III   \n",
       "1    MILITARY - U.S. NAVY      NaN    Test flight               Dirigible   \n",
       "2                 PRIVATE        -            NaN        Curtiss seaplane   \n",
       "3  MILITARY - GERMAN NAVY      NaN            NaN  Zeppelin L-1 (airship)   \n",
       "4  MILITARY - GERMAN NAVY      NaN            NaN  Zeppelin L-2 (airship)   \n",
       "\n",
       "  Registration cn/In  Aboard  Fatalities  Ground  \\\n",
       "0          NaN     1     2.0         1.0     0.0   \n",
       "1          NaN   NaN     5.0         5.0     0.0   \n",
       "2          NaN   NaN     1.0         1.0     0.0   \n",
       "3          NaN   NaN    20.0        14.0     0.0   \n",
       "4          NaN   NaN    30.0        30.0     0.0   \n",
       "\n",
       "                                             Summary  \n",
       "0  During a demonstration flight, a U.S. Army fly...  \n",
       "1  First U.S. dirigible Akron exploded just offsh...  \n",
       "2  The first fatal airplane accident in Canada oc...  \n",
       "3  The airship flew into a thunderstorm and encou...  \n",
       "4  Hydrogen gas which was being vented was sucked...  "
      ]
     },
     "execution_count": 31,
     "metadata": {},
     "output_type": "execute_result"
    }
   ],
   "source": [
    "avi_data.head()"
   ]
  },
  {
   "cell_type": "markdown",
   "metadata": {},
   "source": [
    "### Exploratory Data Analysis"
   ]
  },
  {
   "cell_type": "code",
   "execution_count": 32,
   "metadata": {},
   "outputs": [
    {
     "data": {
      "text/plain": [
       "Moscow, Russia                      15\n",
       "Sao Paulo, Brazil                   15\n",
       "Rio de Janeiro, Brazil              14\n",
       "Bogota, Colombia                    13\n",
       "Anchorage, Alaska                   13\n",
       "                                    ..\n",
       "Off Algiers                          1\n",
       "Near Grenoble, France                1\n",
       "San Francisco de Moxos,  Bolivia     1\n",
       "Engle, New Mexico                    1\n",
       "Kishiniev, Moldavia, USSR            1\n",
       "Name: Location, Length: 4303, dtype: int64"
      ]
     },
     "execution_count": 32,
     "metadata": {},
     "output_type": "execute_result"
    }
   ],
   "source": [
    "avi_data[\"Location\"].value_counts()"
   ]
  },
  {
   "cell_type": "markdown",
   "metadata": {},
   "source": [
    "### Count of accidents by flight type"
   ]
  },
  {
   "cell_type": "code",
   "execution_count": 84,
   "metadata": {},
   "outputs": [
    {
     "data": {
      "image/png": "[encoded data removed]",
      "text/plain": [
       "<Figure size 720x432 with 1 Axes>"
      ]
     },
     "metadata": {},
     "output_type": "display_data"
    }
   ],
   "source": [
    "plt.figure(figsize=(10,6))\n",
    "plt.plot(flight_typ_acc.index, 'Military', data=flight_typ_acc, color='red', marker='.', linewidth=1)\n",
    "plt.plot(flight_typ_acc.index, 'Passenger', data=flight_typ_acc, color='yellow', marker='.', linewidth=1)\n",
    "plt.legend(fontsize=12)\n",
    "plt.xlabel('Year', fontsize=12)\n",
    "plt.ylabel('Count', fontsize=12)\n",
    "plt.title('Count of accidents by flight type', fontsize=15)\n",
    "plt.show()"
   ]
  },
  {
   "cell_type": "markdown",
   "metadata": {},
   "source": [
    "## Observation"
   ]
  },
  {
   "cell_type": "markdown",
   "metadata": {},
   "source": [
    " 1)  Military flights accidents are not frequently occured more, but only at 1940 the number of accidents was quiet more than        the normal case\n",
    "\n",
    " 2) Flight accidents in passenger flights are more in number till 1980, later years it gradualy decreased and in the year 2009     accident number recored was in the range 20"
   ]
  },
  {
   "cell_type": "markdown",
   "metadata": {},
   "source": [
    "### Passenger vs military flights"
   ]
  },
  {
   "cell_type": "code",
   "execution_count": 79,
   "metadata": {},
   "outputs": [
    {
     "data": {
      "text/html": [
       "<div>\n",
       "<style scoped>\n",
       "    .dataframe tbody tr th:only-of-type {\n",
       "        vertical-align: middle;\n",
       "    }\n",
       "\n",
       "    .dataframe tbody tr th {\n",
       "        vertical-align: top;\n",
       "    }\n",
       "\n",
       "    .dataframe thead th {\n",
       "        text-align: right;\n",
       "    }\n",
       "</style>\n",
       "<table border=\"1\" class=\"dataframe\">\n",
       "  <thead>\n",
       "    <tr style=\"text-align: right;\">\n",
       "      <th></th>\n",
       "      <th>isMilitary</th>\n",
       "    </tr>\n",
       "  </thead>\n",
       "  <tbody>\n",
       "    <tr>\n",
       "      <th>Passenger</th>\n",
       "      <td>4469</td>\n",
       "    </tr>\n",
       "    <tr>\n",
       "      <th>Military</th>\n",
       "      <td>781</td>\n",
       "    </tr>\n",
       "  </tbody>\n",
       "</table>\n",
       "</div>"
      ],
      "text/plain": [
       "           isMilitary\n",
       "Passenger        4469\n",
       "Military          781"
      ]
     },
     "execution_count": 79,
     "metadata": {},
     "output_type": "execute_result"
    }
   ],
   "source": [
    "flight_typ= avi_data.copy()\n",
    "flight_typ['isMilitary'] = flight_typ.Operator.str.contains('MILITARY')\n",
    "flight_typ = flight_typ.groupby('isMilitary')[['isMilitary']].count()\n",
    "flight_typ.index = ['Passenger', 'Military']\n",
    "flight_typ"
   ]
  },
  {
   "cell_type": "code",
   "execution_count": 80,
   "metadata": {},
   "outputs": [
    {
     "data": {
      "text/plain": [
       "Text(0.5, 1.0, 'Total number of accidents by flight type')"
      ]
     },
     "execution_count": 80,
     "metadata": {},
     "output_type": "execute_result"
    },
    {
     "data": {
      "image/png": "[encoded data removed]",
      "text/plain": [
       "<Figure size 1080x432 with 1 Axes>"
      ]
     },
     "metadata": {},
     "output_type": "display_data"
    }
   ],
   "source": [
    "#Total number of accidents by flight type\n",
    "\n",
    "colors = ['indianred', 'gold']\n",
    "plt.figure(figsize=(15,6))\n",
    "plt.pie(flight_typ.isMilitary, colors=colors, labels=flight_typ.isMilitary, startangle=90)\n",
    "plt.legend( flight_typ.index, fontsize=14)\n",
    "plt.axis('equal')\n",
    "plt.title('Total number of accidents by flight type', fontsize=15)"
   ]
  },
  {
   "cell_type": "code",
   "execution_count": null,
   "metadata": {},
   "outputs": [],
   "source": []
  }
 ],
 "metadata": {
  "kernelspec": {
   "display_name": "Python 3",
   "language": "python",
   "name": "python3"
  },
  "language_info": {
   "codemirror_mode": {
    "name": "ipython",
    "version": 3
   },
   "file_extension": ".py",
   "mimetype": "text/x-python",
   "name": "python",
   "nbconvert_exporter": "python",
   "pygments_lexer": "ipython3",
   "version": "3.8.3"
  }
 },
 "nbformat": 4,
 "nbformat_minor": 4
}
